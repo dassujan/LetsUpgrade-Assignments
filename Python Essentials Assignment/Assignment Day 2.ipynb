{
 "cells": [
  {
   "cell_type": "markdown",
   "metadata": {
    "id": "Gi90AQwMjuQW"
   },
   "source": [
    "# Question 1 :\n",
    "Try 5 Different functions of the String in Python.\n",
    "For example - index, split function."
   ]
  },
  {
   "cell_type": "code",
   "execution_count": 1,
   "metadata": {
    "colab": {
     "base_uri": "https://localhost:8080/"
    },
    "id": "eSuBGqWfU2-e",
    "outputId": "f5c9d868-95a2-450f-d301-e6934b0073f0"
   },
   "outputs": [
    {
     "name": "stdout",
     "output_type": "stream",
     "text": [
      "hello Lens= 5\n"
     ]
    }
   ],
   "source": [
    "h = 'hello' # String literals can use single quotes\n",
    "w = 'world' # or double quotes; it does not matter\n",
    "print(h, \"Lens=\", len(w)) "
   ]
  },
  {
   "cell_type": "code",
   "execution_count": 2,
   "metadata": {
    "colab": {
     "base_uri": "https://localhost:8080/"
    },
    "id": "2WWl5LkpVfD9",
    "outputId": "f51f938e-1395-43cf-c2f8-af28cf9fca42"
   },
   "outputs": [
    {
     "name": "stdout",
     "output_type": "stream",
     "text": [
      "True\n",
      "False\n",
      "True\n",
      "False\n"
     ]
    }
   ],
   "source": [
    "#isdigit() #isdecimal\n",
    "txt=\"2020\"\n",
    "txt2=\"Sujan\"\n",
    "print(txt.isdecimal())\n",
    "print(txt2.isdecimal())\n",
    "x=txt.isdigit()\n",
    "y=txt2.isdigit()\n",
    "print(x)\n",
    "print(y)"
   ]
  },
  {
   "cell_type": "code",
   "execution_count": 3,
   "metadata": {
    "colab": {
     "base_uri": "https://localhost:8080/"
    },
    "id": "4fzPwClUjw6z",
    "outputId": "93df014b-3481-4e83-9076-f20c4701d4d4"
   },
   "outputs": [
    {
     "name": "stdout",
     "output_type": "stream",
     "text": [
      "Hello\n",
      "HELLO\n",
      "     hello\n",
      "  hello   \n",
      "he(ell)(ell)o\n",
      "world\n"
     ]
    }
   ],
   "source": [
    "s = \"hello\"\n",
    "# Capitalize first letter of string\n",
    "print(s.capitalize())\n",
    "# Convert a string to upparcase; prints \"HELLO\"\n",
    "print(s.upper())\n",
    "# Right-justify a string, padding with spaces\n",
    "print(s.rjust(10))\n",
    "# center a string, padding spaces\n",
    "print(s.center(10))\n",
    "# Replace all instances of 1 substring with another\n",
    "print(s.replace('l','(ell)'))\n",
    "# Strip leading and trailing whitespace\n",
    "print('  world  '.strip())"
   ]
  },
  {
   "cell_type": "code",
   "execution_count": 4,
   "metadata": {
    "colab": {
     "base_uri": "https://localhost:8080/"
    },
    "id": "p4QW5o7nj2tq",
    "outputId": "14f47710-a24c-48c7-8ab8-29abc0195767"
   },
   "outputs": [
    {
     "name": "stdout",
     "output_type": "stream",
     "text": [
      "Original string: cold, cold heart\n",
      "Replaced string: celd, celd heart\n",
      "let it be, let it be, let it be\n"
     ]
    }
   ],
   "source": [
    "#String replace()\n",
    "song = 'cold, cold heart'\n",
    "replaced_song = song.replace('o', 'e')\n",
    "print('Original string:', song)\n",
    "print('Replaced string:', replaced_song)\n",
    "song = 'let it be, let it be, let it be'\n",
    "print(song.replace('let', 'so', 0))"
   ]
  },
  {
   "cell_type": "code",
   "execution_count": 5,
   "metadata": {
    "colab": {
     "base_uri": "https://localhost:8080/"
    },
    "id": "Qi9HUaYej4H2",
    "outputId": "ea65dc00-9459-42de-fbba-b6d1e0dde89b"
   },
   "outputs": [
    {
     "name": "stdout",
     "output_type": "stream",
     "text": [
      "4 -5\n"
     ]
    }
   ],
   "source": [
    "# String format_map()\n",
    "point = {'x':4,'y':-5}\n",
    "print('{x} {y}'.format(**point))"
   ]
  },
  {
   "cell_type": "markdown",
   "metadata": {
    "id": "s8fq2_GXj7Ub"
   },
   "source": [
    "# Question 2 :\n",
    "Try 5 Different functions of the List object in Python"
   ]
  },
  {
   "cell_type": "code",
   "execution_count": 6,
   "metadata": {
    "colab": {
     "base_uri": "https://localhost:8080/"
    },
    "id": "GxgDE-a4kBUZ",
    "outputId": "3db8d5a2-9c57-4106-ecfb-edbbb8507051"
   },
   "outputs": [
    {
     "name": "stdout",
     "output_type": "stream",
     "text": [
      "trek\n",
      "redline\n",
      "giant\n"
     ]
    }
   ],
   "source": [
    "bikes = ['trek','redline','giant'] # Makes a list\n",
    "# Looping through a list\n",
    "for bike in bikes:\n",
    "  print(bike)"
   ]
  },
  {
   "cell_type": "code",
   "execution_count": 7,
   "metadata": {
    "colab": {
     "base_uri": "https://localhost:8080/"
    },
    "id": "Im0OmX93kA_u",
    "outputId": "e376d1a4-fa16-4033-ecd9-0ed6af44bb23"
   },
   "outputs": [
    {
     "data": {
      "text/plain": [
       "['trek', 'redline', 'giant', 'Yamaha', 'TVS Apache', 'Bajaj Pulsar']"
      ]
     },
     "execution_count": 7,
     "metadata": {},
     "output_type": "execute_result"
    }
   ],
   "source": [
    "# Adding items to a list\n",
    "bikes.append('Yamaha')\n",
    "bikes.append('TVS Apache')\n",
    "bikes.append('Bajaj Pulsar')\n",
    "bikes"
   ]
  },
  {
   "cell_type": "code",
   "execution_count": 8,
   "metadata": {
    "colab": {
     "base_uri": "https://localhost:8080/"
    },
    "id": "BLYCBjKcrI4a",
    "outputId": "7f865685-db8f-4fc3-df0b-06cc027d922e"
   },
   "outputs": [
    {
     "data": {
      "text/plain": [
       "['sam', 'bob']"
      ]
     },
     "execution_count": 8,
     "metadata": {},
     "output_type": "execute_result"
    }
   ],
   "source": [
    "# Slicing a list\n",
    "finishers = ['sam', 'bob', 'ada', 'bea']\n",
    "first_two = finishers[:2]\n",
    "first_two"
   ]
  },
  {
   "cell_type": "code",
   "execution_count": 9,
   "metadata": {
    "colab": {
     "base_uri": "https://localhost:8080/"
    },
    "id": "gLpHpB0ekB4j",
    "outputId": "8355de0c-9fc0-4343-961b-bc664f15687b"
   },
   "outputs": [
    {
     "name": "stdout",
     "output_type": "stream",
     "text": [
      "[0, 1, 4, 9, 16]\n"
     ]
    }
   ],
   "source": [
    "# Consider the following code that computes list of square numbers\n",
    "nums = [0, 1, 2, 3, 4]\n",
    "squares = [x**2 for x in nums]\n",
    "print(squares)"
   ]
  },
  {
   "cell_type": "code",
   "execution_count": 10,
   "metadata": {
    "colab": {
     "base_uri": "https://localhost:8080/"
    },
    "id": "LksjiZ9MkCjI",
    "outputId": "2a0116f7-abd6-4f55-f697-67f06a69d5d1"
   },
   "outputs": [
    {
     "name": "stdout",
     "output_type": "stream",
     "text": [
      "[0, 4, 16]\n"
     ]
    }
   ],
   "source": [
    "# Only list of even squared numbers\n",
    "nums = [0, 1, 2, 3, 4]\n",
    "even_squares = [x**2 for x in nums if x%2 == 0]\n",
    "print(even_squares)"
   ]
  },
  {
   "cell_type": "markdown",
   "metadata": {
    "id": "yj6JXU3GkL_M"
   },
   "source": [
    "# Question 3 :\n",
    "Experiment with at least 5 default functions of Dictionary"
   ]
  },
  {
   "cell_type": "code",
   "execution_count": 11,
   "metadata": {
    "colab": {
     "base_uri": "https://localhost:8080/"
    },
    "id": "EpIJtL9jkPBs",
    "outputId": "19a31285-cde2-4fde-d3f0-38fb61e90807"
   },
   "outputs": [
    {
     "name": "stdout",
     "output_type": "stream",
     "text": [
      "<class 'dict'>\n",
      "{'cat': 'cute', 'dog': 'furry'}\n",
      "cute\n",
      "True\n"
     ]
    }
   ],
   "source": [
    "d = {'cat': 'cute', 'dog': 'furry'} # Create a new dictionary with some data\n",
    "print(type(d))\n",
    "print(d)\n",
    "print(d['cat']) # Get an entry from a dictionary; prints \"cute\"\n",
    "print('cat' in d) # in Check if a dictionary has a given key"
   ]
  },
  {
   "cell_type": "code",
   "execution_count": 12,
   "metadata": {
    "colab": {
     "base_uri": "https://localhost:8080/"
    },
    "id": "8o8Xp-KwknbL",
    "outputId": "4abb0ba7-52d7-46d6-d065-0721915ff5f5"
   },
   "outputs": [
    {
     "name": "stdout",
     "output_type": "stream",
     "text": [
      "{'cat': 'cute', 'dog': 'furry', 'fish': 'wet'}\n",
      "140681992081480\n"
     ]
    }
   ],
   "source": [
    "d = {'cat': 'cute', 'dog': 'furry'} \n",
    "d['fish'] = 'wet' # Set an entry in a dictionary, if key and value is present\n",
    "print(d)\n",
    "print(id(d))"
   ]
  },
  {
   "cell_type": "code",
   "execution_count": 13,
   "metadata": {
    "colab": {
     "base_uri": "https://localhost:8080/"
    },
    "id": "hELjUsEQEK60",
    "outputId": "32c8bfec-9467-4d5f-cd0e-e512a9fd9cf3"
   },
   "outputs": [
    {
     "name": "stdout",
     "output_type": "stream",
     "text": [
      "A person has 2 legs\n",
      "A cat has 4 legs\n",
      "A spider has 8 legs\n"
     ]
    }
   ],
   "source": [
    "# For iterate over the keys in a dictionary\n",
    "d = {'person': 2, 'cat': 4, 'spider': 8}\n",
    "for animal, legs in d.items():\n",
    "  print('A {} has {} legs' .format(animal, legs))"
   ]
  },
  {
   "cell_type": "code",
   "execution_count": 14,
   "metadata": {
    "colab": {
     "base_uri": "https://localhost:8080/"
    },
    "id": "h4W94kvGkoGs",
    "outputId": "83ca62bd-f771-4c27-9fd5-24e6ba13054e"
   },
   "outputs": [
    {
     "name": "stdout",
     "output_type": "stream",
     "text": [
      "{0: 0, 1: 1, 2: 4, 3: 9, 4: 16, 5: 25}\n"
     ]
    }
   ],
   "source": [
    "# print no. as key and their squares  as a value\n",
    "nums = [0, 1, 2, 3, 4, 5]\n",
    "num_to_square = {x: x ** 2 for x in nums }\n",
    "print(num_to_square)"
   ]
  },
  {
   "cell_type": "code",
   "execution_count": 15,
   "metadata": {
    "colab": {
     "base_uri": "https://localhost:8080/"
    },
    "id": "pVS8pg3mkocs",
    "outputId": "804a33de-1d7f-4d52-d6e2-362b1a01ec43"
   },
   "outputs": [
    {
     "name": "stdout",
     "output_type": "stream",
     "text": [
      "{0: 0, 2: 4, 4: 16}\n"
     ]
    }
   ],
   "source": [
    "# print even squares\n",
    "nums = [0, 1, 2, 3, 4, 5]\n",
    "even_num_to_square = {x: x ** 2 for x in nums if x % 2 == 0}\n",
    "print(even_num_to_square)"
   ]
  }
 ],
 "metadata": {
  "colab": {
   "name": "Assignment Day 2.ipynb",
   "provenance": []
  },
  "kernelspec": {
   "display_name": "Python 3",
   "language": "python",
   "name": "python3"
  },
  "language_info": {
   "codemirror_mode": {
    "name": "ipython",
    "version": 3
   },
   "file_extension": ".py",
   "mimetype": "text/x-python",
   "name": "python",
   "nbconvert_exporter": "python",
   "pygments_lexer": "ipython3",
   "version": "3.6.10"
  }
 },
 "nbformat": 4,
 "nbformat_minor": 1
}
