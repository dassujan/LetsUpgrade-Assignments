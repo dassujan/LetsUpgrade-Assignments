{
  "nbformat": 4,
  "nbformat_minor": 0,
  "metadata": {
    "kernelspec": {
      "display_name": "Python 3",
      "language": "python",
      "name": "python3"
    },
    "language_info": {
      "codemirror_mode": {
        "name": "ipython",
        "version": 3
      },
      "file_extension": ".py",
      "mimetype": "text/x-python",
      "name": "python",
      "nbconvert_exporter": "python",
      "pygments_lexer": "ipython3",
      "version": "3.7.4"
    },
    "colab": {
      "name": "Assignment Day 5.ipynb",
      "provenance": []
    }
  },
  "cells": [
    {
      "cell_type": "code",
      "metadata": {
        "colab": {
          "base_uri": "https://localhost:8080/"
        },
        "id": "FSpCsdMAAi4I",
        "outputId": "36e2c3d3-b25e-45c1-f301-b9ceff152dee"
      },
      "source": [
        "!pip install cryptography"
      ],
      "execution_count": 1,
      "outputs": [
        {
          "output_type": "stream",
          "text": [
            "Collecting cryptography\n",
            "\u001b[?25l  Downloading https://files.pythonhosted.org/packages/c9/de/7054df0620b5411ba45480f0261e1fb66a53f3db31b28e3aa52c026e72d9/cryptography-3.3.1-cp36-abi3-manylinux2010_x86_64.whl (2.6MB)\n",
            "\u001b[K     |████████████████████████████████| 2.6MB 6.5MB/s \n",
            "\u001b[?25hRequirement already satisfied: cffi>=1.12 in /usr/local/lib/python3.6/dist-packages (from cryptography) (1.14.4)\n",
            "Requirement already satisfied: six>=1.4.1 in /usr/local/lib/python3.6/dist-packages (from cryptography) (1.15.0)\n",
            "Requirement already satisfied: pycparser in /usr/local/lib/python3.6/dist-packages (from cffi>=1.12->cryptography) (2.20)\n",
            "Installing collected packages: cryptography\n",
            "Successfully installed cryptography-3.3.1\n"
          ],
          "name": "stdout"
        }
      ]
    },
    {
      "cell_type": "code",
      "metadata": {
        "id": "gD8xfpsG_7nF"
      },
      "source": [
        "from cryptography.fernet import Fernet"
      ],
      "execution_count": 2,
      "outputs": []
    },
    {
      "cell_type": "code",
      "metadata": {
        "id": "otJ9h2Qi_7nL"
      },
      "source": [
        "def genratePassKey():\n",
        "    key = Fernet.generate_key()\n",
        "    print(key)\n",
        "    print(type(key))\n",
        "    abc = open(\"SecretKey.key\",'wb')\n",
        "    abc.write(key)\n",
        "    abc.close()"
      ],
      "execution_count": 3,
      "outputs": []
    },
    {
      "cell_type": "code",
      "metadata": {
        "id": "cLElJ0YD_7nN"
      },
      "source": [
        "def getMyKey():\n",
        "    abc = open(\"SecretKey.key\",'rb')\n",
        "    return abc.read()"
      ],
      "execution_count": 4,
      "outputs": []
    },
    {
      "cell_type": "code",
      "metadata": {
        "id": "KA2yLpVf_7nQ"
      },
      "source": [
        "def getContentFromUser():\n",
        "    return input(\"Enter the Content you want to Encrypt in your python Script\")"
      ],
      "execution_count": 5,
      "outputs": []
    },
    {
      "cell_type": "code",
      "metadata": {
        "id": "dcJ53qUo_7nX"
      },
      "source": [
        "def encryptMessage(message_normal):\n",
        "    key = getMyKey()\n",
        "    k = Fernet(key)\n",
        "    encrypted_Message = k.encrypt(message_normal)\n",
        "    return encrypted_Message"
      ],
      "execution_count": 6,
      "outputs": []
    },
    {
      "cell_type": "code",
      "metadata": {
        "id": "j8go-SJu_7nd"
      },
      "source": [
        "def decryptMessage(message_secret):\n",
        "    key = getMyKey()\n",
        "    k = Fernet(key)\n",
        "    decrypted_Message = k.decrypt(message_secret)\n",
        "    return decrypted_Message"
      ],
      "execution_count": 7,
      "outputs": []
    },
    {
      "cell_type": "code",
      "metadata": {
        "colab": {
          "base_uri": "https://localhost:8080/"
        },
        "id": "-ZutcViB_7nf",
        "outputId": "efd10cfc-3cd8-4701-f3ae-b447911614f4"
      },
      "source": [
        "genratePassKey()"
      ],
      "execution_count": 8,
      "outputs": [
        {
          "output_type": "stream",
          "text": [
            "b'Bd7fBTOwAGF8kNB2RhCCirxqbj7QzNCgYCbW-RIvZvA='\n",
            "<class 'bytes'>\n"
          ],
          "name": "stdout"
        }
      ]
    },
    {
      "cell_type": "code",
      "metadata": {
        "colab": {
          "base_uri": "https://localhost:8080/"
        },
        "id": "5pjqpJfp_7nj",
        "outputId": "c3f1896e-d596-4b24-f147-5eb392c09bbe"
      },
      "source": [
        "data = getContentFromUser()\n",
        "\n",
        "encryptedCode = encryptMessage(data.encode('utf-8'))"
      ],
      "execution_count": 9,
      "outputs": [
        {
          "output_type": "stream",
          "text": [
            "Enter the Content you want to Encrypt in your python ScriptMy ATM Pin is 123456\n"
          ],
          "name": "stdout"
        }
      ]
    },
    {
      "cell_type": "code",
      "metadata": {
        "colab": {
          "base_uri": "https://localhost:8080/"
        },
        "id": "r0Qp994g_7no",
        "outputId": "5f484de7-0746-4823-cdb9-be3c2f7ee630"
      },
      "source": [
        "encryptedCode"
      ],
      "execution_count": 10,
      "outputs": [
        {
          "output_type": "execute_result",
          "data": {
            "text/plain": [
              "b'gAAAAABf3jbdaNfU4Hz0-D4iD7ekTFqwAn-C18Yn9f2OLyZLO5I9zlGrGmNdu0QkJMxTT4GAHwQGX-LBgjGSHzjc6aZLDLD9DExSItgrzifRwFXHmOeMNrI='"
            ]
          },
          "metadata": {
            "tags": []
          },
          "execution_count": 10
        }
      ]
    },
    {
      "cell_type": "code",
      "metadata": {
        "colab": {
          "base_uri": "https://localhost:8080/"
        },
        "id": "4N4rS-HV_7np",
        "outputId": "3c9c6445-c873-4bc8-e2b4-449ebca1e17e"
      },
      "source": [
        "type(encryptedCode)"
      ],
      "execution_count": 11,
      "outputs": [
        {
          "output_type": "execute_result",
          "data": {
            "text/plain": [
              "bytes"
            ]
          },
          "metadata": {
            "tags": []
          },
          "execution_count": 11
        }
      ]
    },
    {
      "cell_type": "code",
      "metadata": {
        "colab": {
          "base_uri": "https://localhost:8080/"
        },
        "id": "hyTjHYPw_7oi",
        "outputId": "190d0156-d81b-43d3-83eb-04c88a0fcb2f"
      },
      "source": [
        "decryptMessage(encryptedCode)"
      ],
      "execution_count": 12,
      "outputs": [
        {
          "output_type": "execute_result",
          "data": {
            "text/plain": [
              "b'My ATM Pin is 123456'"
            ]
          },
          "metadata": {
            "tags": []
          },
          "execution_count": 12
        }
      ]
    }
  ]
}