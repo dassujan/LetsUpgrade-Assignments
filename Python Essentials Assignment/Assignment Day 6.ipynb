{
 "cells": [
  {
   "cell_type": "markdown",
   "metadata": {
    "id": "J-uXQg51i77N"
   },
   "source": [
    "#Email Sending Project"
   ]
  },
  {
   "cell_type": "code",
   "execution_count": 1,
   "metadata": {
    "colab": {
     "base_uri": "https://localhost:8080/"
    },
    "id": "u_HcyeLrizr_",
    "outputId": "821d6c13-e8df-4ffd-ba0d-d2b1c7cf1f35"
   },
   "outputs": [
    {
     "name": "stdout",
     "output_type": "stream",
     "text": [
      "Collecting emails\n",
      "  Downloading emails-0.6-py2.py3-none-any.whl (56 kB)\n",
      "\u001b[K     |████████████████████████████████| 56 kB 3.0 MB/s  eta 0:00:01\n",
      "\u001b[?25hRequirement already satisfied: requests in /srv/conda/envs/notebook/lib/python3.6/site-packages (from emails) (2.23.0)\n",
      "Collecting premailer\n",
      "  Downloading premailer-3.7.0-py2.py3-none-any.whl (18 kB)\n",
      "Collecting cssutils\n",
      "  Downloading cssutils-1.0.2-py3-none-any.whl (406 kB)\n",
      "\u001b[K     |████████████████████████████████| 406 kB 24.5 MB/s eta 0:00:01\n",
      "\u001b[?25hRequirement already satisfied: python-dateutil in /srv/conda/envs/notebook/lib/python3.6/site-packages (from emails) (2.8.1)\n",
      "Collecting lxml\n",
      "  Downloading lxml-4.6.2-cp36-cp36m-manylinux1_x86_64.whl (5.5 MB)\n",
      "\u001b[K     |████████████████████████████████| 5.5 MB 46.6 MB/s eta 0:00:01\n",
      "\u001b[?25hRequirement already satisfied: chardet in /srv/conda/envs/notebook/lib/python3.6/site-packages (from emails) (3.0.4)\n",
      "Requirement already satisfied: certifi>=2017.4.17 in /srv/conda/envs/notebook/lib/python3.6/site-packages (from requests->emails) (2020.6.20)\n",
      "Requirement already satisfied: idna<3,>=2.5 in /srv/conda/envs/notebook/lib/python3.6/site-packages (from requests->emails) (2.9)\n",
      "Requirement already satisfied: urllib3!=1.25.0,!=1.25.1,<1.26,>=1.21.1 in /srv/conda/envs/notebook/lib/python3.6/site-packages (from requests->emails) (1.25.9)\n",
      "Collecting cachetools\n",
      "  Downloading cachetools-4.2.0-py3-none-any.whl (12 kB)\n",
      "Collecting cssselect\n",
      "  Downloading cssselect-1.1.0-py2.py3-none-any.whl (16 kB)\n",
      "Requirement already satisfied: six>=1.5 in /srv/conda/envs/notebook/lib/python3.6/site-packages (from python-dateutil->emails) (1.15.0)\n",
      "Installing collected packages: cachetools, cssutils, lxml, cssselect, premailer, emails\n",
      "Successfully installed cachetools-4.2.0 cssselect-1.1.0 cssutils-1.0.2 emails-0.6 lxml-4.6.2 premailer-3.7.0\n"
     ]
    }
   ],
   "source": [
    "!pip install emails"
   ]
  },
  {
   "cell_type": "code",
   "execution_count": 2,
   "metadata": {
    "id": "9n-YcGkojXHn"
   },
   "outputs": [],
   "source": [
    "import emails"
   ]
  },
  {
   "cell_type": "code",
   "execution_count": 3,
   "metadata": {
    "id": "W4DDHZHVngah"
   },
   "outputs": [],
   "source": [
    "def sendMail(email, name):\n",
    "\n",
    "  html_text = '''<p><span style='font-family: \"Courier New\", courier; background-color: rgb(250, 197, 28);'>HEY Rowdy,</span></p>\n",
    "              <p><span style=\"font-family: Courier New, courier;\">How are you! This is Sujan from Sujan Das from University Institute of Technology, The University of Burdwan, have completed a LetsUpgrade Python Essential Program.&nbsp;</span></p>\n",
    "              <p><span style=\"font-family: Courier New, courier;\">It was a amazing session with SaiKiran sir.</span></p>\n",
    "              <p><span style=\"font-family: Courier New, courier;\">I upoaded all my Python Essenstial Project on Github.</span></p>\n",
    "              <p><span style='font-family: \"Courier New\", courier;'>Checkout my all project on Github!</span></p>\n",
    "              <p><br></p>\n",
    "              <p><span style='font-family: \"Courier New\", courier;'>Thanks &amp; Regards,</span></p>\n",
    "              <p><span style='font-family: \"Courier New\", courier;'><strong>Sujan Das</strong></span></p>'''\n",
    "                  \n",
    "  subject = \"Hey Rowdy \"+ name + \", YOU HAVE EMAIL FROM SUJAN\"\n",
    "  message = emails.html(html=html_text,\n",
    "                          subject=subject,\n",
    "                          mail_from=('Sujan LetsUpgrade', '<Required Email>'))\n",
    "\n",
    "  mail_via_python = message.send(to=email,\n",
    "                               smtp={'host': 'smtp.gmail.com',\n",
    "                                     'timeout': 5,\n",
    "                                     'port':587,\n",
    "                                     'user':'<Required Email>',\n",
    "                                     'password':'<Required Email Password>',\n",
    "                                     'tls':True})\n",
    "  return mail_via_python.status_code"
   ]
  },
  {
   "cell_type": "code",
   "execution_count": 4,
   "metadata": {
    "colab": {
     "base_uri": "https://localhost:8080/"
    },
    "id": "jCeBGjUGl6Bv",
    "outputId": "c8890054-234e-4714-c495-6ce5484f7a33"
   },
   "outputs": [],
   "source": [
    "sendMail(\"dassujan.005@gmail.com\",\"Sujan\")"
   ]
  }
 ],
 "metadata": {
  "colab": {
   "collapsed_sections": [],
   "name": "Assignment Day 6.ipynb",
   "provenance": []
  },
  "kernelspec": {
   "display_name": "Python 3",
   "language": "python",
   "name": "python3"
  },
  "language_info": {
   "codemirror_mode": {
    "name": "ipython",
    "version": 3
   },
   "file_extension": ".py",
   "mimetype": "text/x-python",
   "name": "python",
   "nbconvert_exporter": "python",
   "pygments_lexer": "ipython3",
   "version": "3.6.10"
  }
 },
 "nbformat": 4,
 "nbformat_minor": 1
}
