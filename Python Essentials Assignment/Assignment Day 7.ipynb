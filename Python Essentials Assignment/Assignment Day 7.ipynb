{
 "cells": [
  {
   "cell_type": "code",
   "execution_count": 1,
   "metadata": {
    "colab": {
     "base_uri": "https://localhost:8080/"
    },
    "id": "a1A1acEEDbe-",
    "outputId": "0ca5ea2f-3ed4-44be-eb69-7a684b817e84"
   },
   "outputs": [
    {
     "name": "stdout",
     "output_type": "stream",
     "text": [
      "Collecting pytube\n",
      "  Downloading pytube-10.0.0-py3-none-any.whl (40 kB)\n",
      "\u001b[K     |████████████████████████████████| 40 kB 4.1 MB/s eta 0:00:011\n",
      "\u001b[?25hCollecting typing-extensions\n",
      "  Downloading typing_extensions-3.7.4.3-py3-none-any.whl (22 kB)\n",
      "Installing collected packages: typing-extensions, pytube\n",
      "Successfully installed pytube-10.0.0 typing-extensions-3.7.4.3\n"
     ]
    }
   ],
   "source": [
    "!pip install pytube"
   ]
  },
  {
   "cell_type": "code",
   "execution_count": 2,
   "metadata": {
    "id": "fDcbWehoDbfK"
   },
   "outputs": [],
   "source": [
    "from pytube import YouTube"
   ]
  },
  {
   "cell_type": "code",
   "execution_count": 3,
   "metadata": {
    "colab": {
     "base_uri": "https://localhost:8080/",
     "height": 35
    },
    "id": "Yf1s5dz5DbfN",
    "outputId": "66a9b3ab-9c3c-4288-92e1-96ae8caca929"
   },
   "outputs": [
    {
     "data": {
      "text/plain": [
       "'/home/jovyan/binder/AVENGERS 5 Galactus – MCU Tribute Trailer (Phase 5 Marvel Movie).mp4'"
      ]
     },
     "execution_count": 3,
     "metadata": {},
     "output_type": "execute_result"
    }
   ],
   "source": [
    "YouTube('https://youtu.be/VwsnlsZX6xc').streams.first().download()"
   ]
  }
 ],
 "metadata": {
  "colab": {
   "name": "Assignment Day 7.ipynb",
   "provenance": []
  },
  "kernelspec": {
   "display_name": "Python 3",
   "language": "python",
   "name": "python3"
  },
  "language_info": {
   "codemirror_mode": {
    "name": "ipython",
    "version": 3
   },
   "file_extension": ".py",
   "mimetype": "text/x-python",
   "name": "python",
   "nbconvert_exporter": "python",
   "pygments_lexer": "ipython3",
   "version": "3.6.11"
  }
 },
 "nbformat": 4,
 "nbformat_minor": 1
}
